{
  "nbformat": 4,
  "nbformat_minor": 0,
  "metadata": {
    "colab": {
      "provenance": [],
      "authorship_tag": "ABX9TyOYpNz1UyUn32gDb/c5vlqC"
    },
    "kernelspec": {
      "name": "python3",
      "display_name": "Python 3"
    },
    "language_info": {
      "name": "python"
    },
    "accelerator": "TPU"
  },
  "cells": [
    {
      "cell_type": "code",
      "execution_count": null,
      "metadata": {
        "id": "lyb2Jpgx5GRW"
      },
      "outputs": [],
      "source": []
    },
    {
      "cell_type": "code",
      "source": [
        "import http.server\n",
        "import os\n",
        "\n",
        "def get_login_page():\n",
        "    with open(\"login.html\", \"r\") as f:\n",
        "        return f.read()\n",
        "\n",
        "class MyHandler(http.server.SimpleHTTPRequestHandler):\n",
        "    def do_GET(self):\n",
        "        if self.path == \"/\":\n",
        "            self.send_response(200)\n",
        "            self.send_header(\"Content-type\", \"text/html\")\n",
        "            self.end_headers()\n",
        "            self.wfile.write(get_login_page())\n",
        "        elif self.path == \"/login\":\n",
        "            self.send_response(200)\n",
        "            self.send_header(\"Content-type\", \"text/html\")\n",
        "            self.end_headers()\n",
        "            self.wfile.write(get_login_page())\n",
        "        else:\n",
        "            self.send_response(403)\n",
        "            self.send_header(\"Content-type\", \"text/plain\")\n",
        "            self.end_headers()\n",
        "            self.wfile.write(\"Access denied.\")\n",
        "\n",
        "    def do_POST(self):\n",
        "        if self.path == \"/auth\":\n",
        "            username = self.headers[\"Authorization\"].split()[1].decode(\"utf-8\")\n",
        "            password = self.rfile.read().decode(\"utf-8\")\n",
        "            if username == \"hamdee\" and password == \"123456\":\n",
        "                self.send_response(302)\n",
        "                target_path = os.path.join(\"C:\", \"Users\", \"LENOVO\", \"Desktop\", \"hamdee\")\n",
        "                self.send_header(\"Location\", target_path)\n",
        "                self.end_headers()\n",
        "            else:\n",
        "                self.send_response(401)\n",
        "                self.send_header(\"WWW-Authenticate\", \"Basic realm=\\\"My Realm\\\"\")\n",
        "                self.end_headers()\n",
        "\n",
        "def main():\n",
        "    httpd = http.server.HTTPServer((\"\", 8000), MyHandler)\n",
        "    httpd.serve_forever()\n",
        "\n",
        "if __name__ == \"__main__\":\n",
        "    main()\n"
      ],
      "metadata": {
        "id": "4e6bVyXB5PFw"
      },
      "execution_count": null,
      "outputs": []
    }
  ]
}